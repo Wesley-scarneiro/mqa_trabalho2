{
 "cells": [
  {
   "cell_type": "code",
   "execution_count": 1,
   "metadata": {},
   "outputs": [
    {
     "name": "stdout",
     "output_type": "stream",
     "text": [
      "Collecting pandas\n",
      "  Using cached pandas-2.2.3-cp312-cp312-win_amd64.whl.metadata (19 kB)\n",
      "Collecting numpy>=1.26.0 (from pandas)\n",
      "  Downloading numpy-2.1.3-cp312-cp312-win_amd64.whl.metadata (60 kB)\n",
      "Requirement already satisfied: python-dateutil>=2.8.2 in c:\\users\\wesle\\onedrive\\documentos\\repositories\\mqa_trabalho2\\.venv\\lib\\site-packages (from pandas) (2.9.0.post0)\n",
      "Collecting pytz>=2020.1 (from pandas)\n",
      "  Using cached pytz-2024.2-py2.py3-none-any.whl.metadata (22 kB)\n",
      "Collecting tzdata>=2022.7 (from pandas)\n",
      "  Downloading tzdata-2024.2-py2.py3-none-any.whl.metadata (1.4 kB)\n",
      "Requirement already satisfied: six>=1.5 in c:\\users\\wesle\\onedrive\\documentos\\repositories\\mqa_trabalho2\\.venv\\lib\\site-packages (from python-dateutil>=2.8.2->pandas) (1.16.0)\n",
      "Using cached pandas-2.2.3-cp312-cp312-win_amd64.whl (11.5 MB)\n",
      "Downloading numpy-2.1.3-cp312-cp312-win_amd64.whl (12.6 MB)\n",
      "   ---------------------------------------- 0.0/12.6 MB ? eta -:--:--\n",
      "   -------- ------------------------------- 2.6/12.6 MB 12.5 MB/s eta 0:00:01\n",
      "   --------------- ------------------------ 5.0/12.6 MB 12.1 MB/s eta 0:00:01\n",
      "   ---------------------- ----------------- 7.1/12.6 MB 11.5 MB/s eta 0:00:01\n",
      "   ------------------------------- -------- 10.0/12.6 MB 11.7 MB/s eta 0:00:01\n",
      "   ---------------------------------------  12.3/12.6 MB 11.9 MB/s eta 0:00:01\n",
      "   ---------------------------------------  12.3/12.6 MB 11.9 MB/s eta 0:00:01\n",
      "   ---------------------------------------  12.3/12.6 MB 11.9 MB/s eta 0:00:01\n",
      "   ---------------------------------------  12.3/12.6 MB 11.9 MB/s eta 0:00:01\n",
      "   ---------------------------------------- 12.6/12.6 MB 7.1 MB/s eta 0:00:00\n",
      "Using cached pytz-2024.2-py2.py3-none-any.whl (508 kB)\n",
      "Downloading tzdata-2024.2-py2.py3-none-any.whl (346 kB)\n",
      "Installing collected packages: pytz, tzdata, numpy, pandas\n",
      "Successfully installed numpy-2.1.3 pandas-2.2.3 pytz-2024.2 tzdata-2024.2\n"
     ]
    }
   ],
   "source": [
    "!pip install pandas"
   ]
  },
  {
   "cell_type": "code",
   "execution_count": 13,
   "metadata": {},
   "outputs": [],
   "source": [
    "import pandas as pd\n",
    "\n",
    "data_path = 'dados_filiacoes.csv'\n",
    "\n",
    "# Arquivo origem\n",
    "data_filiacoes = pd.read_csv(data_path)\n",
    "data_filiacoes.dropna(subset=['IDLattes',\n",
    "                              'DuracaoDoutorado',\n",
    "                              'Genero',\n",
    "                              'ExclusividadeDoutorado',\n",
    "                              'Publicacoes',\n",
    "                              'IdadeAcademica',\n",
    "                              'HistoricoFiliacaoemIESInternacional'], inplace=True)\n",
    "\n",
    "data_filiacoes['UltimaFiliacaoInter'] = data_filiacoes['HistoricoFiliacaoemIESInternacional'].apply(lambda x: 0 if x == '0' else 1)\n",
    "\n",
    "# Gerando dataset com as colunas relevantes para regressão logística\n",
    "data_set = data_filiacoes[['IDLattes', \n",
    "                           'DuracaoDoutorado', \n",
    "                           'Genero',\n",
    "                           'ExclusividadeDoutorado',\n",
    "                           'Publicacoes',\n",
    "                           'IdadeAcademica',\n",
    "                           'UltimaFiliacaoInter']]\n",
    "\n",
    "data_set.to_csv('dataset_filiacoes.csv', index=False)\n"
   ]
  }
 ],
 "metadata": {
  "kernelspec": {
   "display_name": ".venv",
   "language": "python",
   "name": "python3"
  },
  "language_info": {
   "codemirror_mode": {
    "name": "ipython",
    "version": 3
   },
   "file_extension": ".py",
   "mimetype": "text/x-python",
   "name": "python",
   "nbconvert_exporter": "python",
   "pygments_lexer": "ipython3",
   "version": "3.12.4"
  }
 },
 "nbformat": 4,
 "nbformat_minor": 2
}
