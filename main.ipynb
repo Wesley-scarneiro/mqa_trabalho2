{
 "cells": [
  {
   "cell_type": "markdown",
   "metadata": {},
   "source": [
    "# Regressão logística\n",
    "\n",
    "Estimar a probabilidade de um perquisador possuir uma filiação internacional, com base nas seguintes variáveis disponíveis:\n",
    "\n",
    "* DuracaoDoutorado (numérica)\n",
    "* Genero (categórica)\n",
    "* Publicacoes (numérica)\n",
    "* IdadeAcademica (numérica)"
   ]
  },
  {
   "cell_type": "code",
   "execution_count": 5,
   "metadata": {},
   "outputs": [
    {
     "name": "stdout",
     "output_type": "stream",
     "text": [
      "Requirement already satisfied: scikit-learn in c:\\users\\wesle\\onedrive\\documentos\\repositories\\mqa_trabalho2\\.venv\\lib\\site-packages (1.5.2)\n",
      "Requirement already satisfied: numpy>=1.19.5 in c:\\users\\wesle\\onedrive\\documentos\\repositories\\mqa_trabalho2\\.venv\\lib\\site-packages (from scikit-learn) (2.1.3)\n",
      "Requirement already satisfied: scipy>=1.6.0 in c:\\users\\wesle\\onedrive\\documentos\\repositories\\mqa_trabalho2\\.venv\\lib\\site-packages (from scikit-learn) (1.14.1)\n",
      "Requirement already satisfied: joblib>=1.2.0 in c:\\users\\wesle\\onedrive\\documentos\\repositories\\mqa_trabalho2\\.venv\\lib\\site-packages (from scikit-learn) (1.4.2)\n",
      "Requirement already satisfied: threadpoolctl>=3.1.0 in c:\\users\\wesle\\onedrive\\documentos\\repositories\\mqa_trabalho2\\.venv\\lib\\site-packages (from scikit-learn) (3.5.0)\n",
      "Requirement already satisfied: numpy in c:\\users\\wesle\\onedrive\\documentos\\repositories\\mqa_trabalho2\\.venv\\lib\\site-packages (2.1.3)\n",
      "Requirement already satisfied: matplotlib in c:\\users\\wesle\\onedrive\\documentos\\repositories\\mqa_trabalho2\\.venv\\lib\\site-packages (3.9.2)\n",
      "Requirement already satisfied: contourpy>=1.0.1 in c:\\users\\wesle\\onedrive\\documentos\\repositories\\mqa_trabalho2\\.venv\\lib\\site-packages (from matplotlib) (1.3.0)\n",
      "Requirement already satisfied: cycler>=0.10 in c:\\users\\wesle\\onedrive\\documentos\\repositories\\mqa_trabalho2\\.venv\\lib\\site-packages (from matplotlib) (0.12.1)\n",
      "Requirement already satisfied: fonttools>=4.22.0 in c:\\users\\wesle\\onedrive\\documentos\\repositories\\mqa_trabalho2\\.venv\\lib\\site-packages (from matplotlib) (4.54.1)\n",
      "Requirement already satisfied: kiwisolver>=1.3.1 in c:\\users\\wesle\\onedrive\\documentos\\repositories\\mqa_trabalho2\\.venv\\lib\\site-packages (from matplotlib) (1.4.7)\n",
      "Requirement already satisfied: numpy>=1.23 in c:\\users\\wesle\\onedrive\\documentos\\repositories\\mqa_trabalho2\\.venv\\lib\\site-packages (from matplotlib) (2.1.3)\n",
      "Requirement already satisfied: packaging>=20.0 in c:\\users\\wesle\\onedrive\\documentos\\repositories\\mqa_trabalho2\\.venv\\lib\\site-packages (from matplotlib) (24.1)\n",
      "Requirement already satisfied: pillow>=8 in c:\\users\\wesle\\onedrive\\documentos\\repositories\\mqa_trabalho2\\.venv\\lib\\site-packages (from matplotlib) (11.0.0)\n",
      "Requirement already satisfied: pyparsing>=2.3.1 in c:\\users\\wesle\\onedrive\\documentos\\repositories\\mqa_trabalho2\\.venv\\lib\\site-packages (from matplotlib) (3.2.0)\n",
      "Requirement already satisfied: python-dateutil>=2.7 in c:\\users\\wesle\\onedrive\\documentos\\repositories\\mqa_trabalho2\\.venv\\lib\\site-packages (from matplotlib) (2.9.0.post0)\n",
      "Requirement already satisfied: six>=1.5 in c:\\users\\wesle\\onedrive\\documentos\\repositories\\mqa_trabalho2\\.venv\\lib\\site-packages (from python-dateutil>=2.7->matplotlib) (1.16.0)\n",
      "Requirement already satisfied: seaborn in c:\\users\\wesle\\onedrive\\documentos\\repositories\\mqa_trabalho2\\.venv\\lib\\site-packages (0.13.2)\n",
      "Requirement already satisfied: numpy!=1.24.0,>=1.20 in c:\\users\\wesle\\onedrive\\documentos\\repositories\\mqa_trabalho2\\.venv\\lib\\site-packages (from seaborn) (2.1.3)\n",
      "Requirement already satisfied: pandas>=1.2 in c:\\users\\wesle\\onedrive\\documentos\\repositories\\mqa_trabalho2\\.venv\\lib\\site-packages (from seaborn) (2.2.3)\n",
      "Requirement already satisfied: matplotlib!=3.6.1,>=3.4 in c:\\users\\wesle\\onedrive\\documentos\\repositories\\mqa_trabalho2\\.venv\\lib\\site-packages (from seaborn) (3.9.2)\n",
      "Requirement already satisfied: contourpy>=1.0.1 in c:\\users\\wesle\\onedrive\\documentos\\repositories\\mqa_trabalho2\\.venv\\lib\\site-packages (from matplotlib!=3.6.1,>=3.4->seaborn) (1.3.0)\n",
      "Requirement already satisfied: cycler>=0.10 in c:\\users\\wesle\\onedrive\\documentos\\repositories\\mqa_trabalho2\\.venv\\lib\\site-packages (from matplotlib!=3.6.1,>=3.4->seaborn) (0.12.1)\n",
      "Requirement already satisfied: fonttools>=4.22.0 in c:\\users\\wesle\\onedrive\\documentos\\repositories\\mqa_trabalho2\\.venv\\lib\\site-packages (from matplotlib!=3.6.1,>=3.4->seaborn) (4.54.1)\n",
      "Requirement already satisfied: kiwisolver>=1.3.1 in c:\\users\\wesle\\onedrive\\documentos\\repositories\\mqa_trabalho2\\.venv\\lib\\site-packages (from matplotlib!=3.6.1,>=3.4->seaborn) (1.4.7)\n",
      "Requirement already satisfied: packaging>=20.0 in c:\\users\\wesle\\onedrive\\documentos\\repositories\\mqa_trabalho2\\.venv\\lib\\site-packages (from matplotlib!=3.6.1,>=3.4->seaborn) (24.1)\n",
      "Requirement already satisfied: pillow>=8 in c:\\users\\wesle\\onedrive\\documentos\\repositories\\mqa_trabalho2\\.venv\\lib\\site-packages (from matplotlib!=3.6.1,>=3.4->seaborn) (11.0.0)\n",
      "Requirement already satisfied: pyparsing>=2.3.1 in c:\\users\\wesle\\onedrive\\documentos\\repositories\\mqa_trabalho2\\.venv\\lib\\site-packages (from matplotlib!=3.6.1,>=3.4->seaborn) (3.2.0)\n",
      "Requirement already satisfied: python-dateutil>=2.7 in c:\\users\\wesle\\onedrive\\documentos\\repositories\\mqa_trabalho2\\.venv\\lib\\site-packages (from matplotlib!=3.6.1,>=3.4->seaborn) (2.9.0.post0)\n",
      "Requirement already satisfied: pytz>=2020.1 in c:\\users\\wesle\\onedrive\\documentos\\repositories\\mqa_trabalho2\\.venv\\lib\\site-packages (from pandas>=1.2->seaborn) (2024.2)\n",
      "Requirement already satisfied: tzdata>=2022.7 in c:\\users\\wesle\\onedrive\\documentos\\repositories\\mqa_trabalho2\\.venv\\lib\\site-packages (from pandas>=1.2->seaborn) (2024.2)\n",
      "Requirement already satisfied: six>=1.5 in c:\\users\\wesle\\onedrive\\documentos\\repositories\\mqa_trabalho2\\.venv\\lib\\site-packages (from python-dateutil>=2.7->matplotlib!=3.6.1,>=3.4->seaborn) (1.16.0)\n"
     ]
    }
   ],
   "source": [
    "!pip install scikit-learn\n",
    "!pip install numpy\n",
    "!pip install matplotlib\n",
    "!pip install seaborn"
   ]
  },
  {
   "cell_type": "code",
   "execution_count": 28,
   "metadata": {},
   "outputs": [
    {
     "data": {
      "text/html": [
       "<div>\n",
       "<style scoped>\n",
       "    .dataframe tbody tr th:only-of-type {\n",
       "        vertical-align: middle;\n",
       "    }\n",
       "\n",
       "    .dataframe tbody tr th {\n",
       "        vertical-align: top;\n",
       "    }\n",
       "\n",
       "    .dataframe thead th {\n",
       "        text-align: right;\n",
       "    }\n",
       "</style>\n",
       "<table border=\"1\" class=\"dataframe\">\n",
       "  <thead>\n",
       "    <tr style=\"text-align: right;\">\n",
       "      <th></th>\n",
       "      <th>IDLattes</th>\n",
       "      <th>DuracaoDoutorado</th>\n",
       "      <th>Genero</th>\n",
       "      <th>ExclusividadeDoutorado</th>\n",
       "      <th>Publicacoes</th>\n",
       "      <th>IdadeAcademica</th>\n",
       "      <th>UltimaFiliacaoInter</th>\n",
       "    </tr>\n",
       "  </thead>\n",
       "  <tbody>\n",
       "    <tr>\n",
       "      <th>0</th>\n",
       "      <td>3317736532048248</td>\n",
       "      <td>4.0</td>\n",
       "      <td>0.0</td>\n",
       "      <td>0</td>\n",
       "      <td>2</td>\n",
       "      <td>3.0</td>\n",
       "      <td>0</td>\n",
       "    </tr>\n",
       "    <tr>\n",
       "      <th>1</th>\n",
       "      <td>3317763390163110</td>\n",
       "      <td>5.0</td>\n",
       "      <td>0.0</td>\n",
       "      <td>1</td>\n",
       "      <td>43</td>\n",
       "      <td>21.0</td>\n",
       "      <td>0</td>\n",
       "    </tr>\n",
       "    <tr>\n",
       "      <th>2</th>\n",
       "      <td>3317779428214532</td>\n",
       "      <td>3.0</td>\n",
       "      <td>1.0</td>\n",
       "      <td>1</td>\n",
       "      <td>31</td>\n",
       "      <td>16.0</td>\n",
       "      <td>0</td>\n",
       "    </tr>\n",
       "    <tr>\n",
       "      <th>3</th>\n",
       "      <td>3317807243271215</td>\n",
       "      <td>4.0</td>\n",
       "      <td>0.0</td>\n",
       "      <td>1</td>\n",
       "      <td>12</td>\n",
       "      <td>9.0</td>\n",
       "      <td>0</td>\n",
       "    </tr>\n",
       "    <tr>\n",
       "      <th>4</th>\n",
       "      <td>3317808443296961</td>\n",
       "      <td>4.0</td>\n",
       "      <td>1.0</td>\n",
       "      <td>1</td>\n",
       "      <td>21</td>\n",
       "      <td>4.0</td>\n",
       "      <td>0</td>\n",
       "    </tr>\n",
       "  </tbody>\n",
       "</table>\n",
       "</div>"
      ],
      "text/plain": [
       "           IDLattes  DuracaoDoutorado  Genero  ExclusividadeDoutorado  \\\n",
       "0  3317736532048248               4.0     0.0                       0   \n",
       "1  3317763390163110               5.0     0.0                       1   \n",
       "2  3317779428214532               3.0     1.0                       1   \n",
       "3  3317807243271215               4.0     0.0                       1   \n",
       "4  3317808443296961               4.0     1.0                       1   \n",
       "\n",
       "   Publicacoes  IdadeAcademica  UltimaFiliacaoInter  \n",
       "0            2             3.0                    0  \n",
       "1           43            21.0                    0  \n",
       "2           31            16.0                    0  \n",
       "3           12             9.0                    0  \n",
       "4           21             4.0                    0  "
      ]
     },
     "execution_count": 28,
     "metadata": {},
     "output_type": "execute_result"
    }
   ],
   "source": [
    "import pandas as pd\n",
    "\n",
    "dataset_path = 'dataset_filiacoes.csv'\n",
    "dataset = pd.read_csv(dataset_path)\n",
    "dataset.head()"
   ]
  },
  {
   "cell_type": "code",
   "execution_count": 29,
   "metadata": {},
   "outputs": [
    {
     "name": "stdout",
     "output_type": "stream",
     "text": [
      "UltimaFiliacaoInter\n",
      "0    6594\n",
      "1    1222\n",
      "Name: count, dtype: int64\n",
      "Acurácia: 0.5685960984969619\n"
     ]
    },
    {
     "data": {
      "image/png": "[encoded data removed]",
      "text/plain": [
       "<Figure size 800x600 with 1 Axes>"
      ]
     },
     "metadata": {},
     "output_type": "display_data"
    },
    {
     "name": "stdout",
     "output_type": "stream",
     "text": [
      "Report:\n",
      "               precision    recall  f1-score   support\n",
      "\n",
      "           0       0.88      0.56      0.69      2626\n",
      "           1       0.21      0.60      0.31       501\n",
      "\n",
      "    accuracy                           0.57      3127\n",
      "   macro avg       0.54      0.58      0.50      3127\n",
      "weighted avg       0.77      0.57      0.63      3127\n",
      "\n"
     ]
    }
   ],
   "source": [
    "from sklearn.model_selection import train_test_split\n",
    "from sklearn.linear_model import LogisticRegression\n",
    "from sklearn.metrics import accuracy_score, confusion_matrix, classification_report\n",
    "import matplotlib.pyplot as plt\n",
    "import seaborn as sns\n",
    "\n",
    "x = dataset[['DuracaoDoutorado',\n",
    "             'Genero',\n",
    "             'ExclusividadeDoutorado',\n",
    "             'Publicacoes',\n",
    "             'IdadeAcademica']]\n",
    "y = dataset['UltimaFiliacaoInter']\n",
    "\n",
    "# Dividindo o conjunto de dados para estimação do modelo e validação\n",
    "# 30% dos dados serão para teste e 70% para treino\n",
    "x_train, x_test, y_train, y_test = train_test_split(x, y, test_size=0.4, random_state=42)\n",
    "\n",
    "# Balanceamento forçado das classes : grande desproporção de 0s e 1s em UltimaFiliacaoInter\n",
    "print(y.value_counts())\n",
    "model = LogisticRegression(class_weight='balanced')\n",
    "model.fit(x_train, y_train)\n",
    "\n",
    "# Fazendo predições\n",
    "y_pred = model.predict(x_test)\n",
    "\n",
    "# Acurácia\n",
    "accuracy = accuracy_score(y_test, y_pred)\n",
    "print(\"Acurácia:\", accuracy)\n",
    "\n",
    "# Gerando e plotando a matriz de confusão\n",
    "conf_matrix = confusion_matrix(y_test, y_pred)\n",
    "\n",
    "plt.figure(figsize=(8, 6))\n",
    "sns.heatmap(conf_matrix, annot=True, fmt=\"d\", cmap=\"Blues\", cbar=False)\n",
    "plt.xlabel(\"Previsão\")\n",
    "plt.ylabel(\"Valor Real\")\n",
    "plt.title(\"Matriz de Confusão\")\n",
    "plt.show()\n",
    "\n",
    "# Relatório de Classificação\n",
    "class_report = classification_report(y_test, y_pred)\n",
    "print(\"Report:\\n\", class_report)\n"
   ]
  },
  {
   "cell_type": "markdown",
   "metadata": {},
   "source": [
    "## Estimando gênero\n",
    "\n",
    "Estimar o gênero do pesquisador(a) com base nas seguintes variáveis disponíveis:\n",
    "* DuracaoDoutorado\n",
    "* Publicacoes\n",
    "* IdadeAcademica"
   ]
  },
  {
   "cell_type": "code",
   "execution_count": 36,
   "metadata": {},
   "outputs": [
    {
     "name": "stdout",
     "output_type": "stream",
     "text": [
      "Genero\n",
      "0.0    4014\n",
      "1.0    3802\n",
      "Name: count, dtype: int64\n",
      "Acurácia: 0.5341102899374645\n"
     ]
    },
    {
     "data": {
      "image/png": "[encoded data removed]",
      "text/plain": [
       "<Figure size 800x600 with 1 Axes>"
      ]
     },
     "metadata": {},
     "output_type": "display_data"
    },
    {
     "name": "stdout",
     "output_type": "stream",
     "text": [
      "Report:\n",
      "               precision    recall  f1-score   support\n",
      "\n",
      "         0.0       0.56      0.48      0.52      1830\n",
      "         1.0       0.51      0.59      0.55      1688\n",
      "\n",
      "    accuracy                           0.53      3518\n",
      "   macro avg       0.54      0.54      0.53      3518\n",
      "weighted avg       0.54      0.53      0.53      3518\n",
      "\n"
     ]
    }
   ],
   "source": [
    "x = dataset[['DuracaoDoutorado',\n",
    "             'ExclusividadeDoutorado',\n",
    "             'Publicacoes',\n",
    "             'IdadeAcademica']]\n",
    "y = dataset['Genero']\n",
    "\n",
    "# Dividindo o conjunto de dados para estimação do modelo e validação\n",
    "# 30% dos dados serão para teste e 70% para treino\n",
    "x_train, x_test, y_train, y_test = train_test_split(x, y, test_size=0.45, random_state=42)\n",
    "\n",
    "print(y.value_counts())\n",
    "model = LogisticRegression()\n",
    "model.fit(x_train, y_train)\n",
    "\n",
    "# Fazendo predições\n",
    "y_pred = model.predict(x_test)\n",
    "\n",
    "# Acurácia\n",
    "accuracy = accuracy_score(y_test, y_pred)\n",
    "print(\"Acurácia:\", accuracy)\n",
    "\n",
    "# Gerando e plotando a matriz de confusão\n",
    "conf_matrix = confusion_matrix(y_test, y_pred)\n",
    "\n",
    "plt.figure(figsize=(8, 6))\n",
    "sns.heatmap(conf_matrix, annot=True, fmt=\"d\", cmap=\"Blues\", cbar=False)\n",
    "plt.xlabel(\"Previsão\")\n",
    "plt.ylabel(\"Valor Real\")\n",
    "plt.title(\"Matriz de Confusão\")\n",
    "plt.show()\n",
    "\n",
    "# Relatório de Classificação\n",
    "class_report = classification_report(y_test, y_pred)\n",
    "print(\"Report:\\n\", class_report)"
   ]
  },
  {
   "cell_type": "markdown",
   "metadata": {},
   "source": [
    "## Estimando exclusividade de área no doutorado\n",
    "\n",
    "Estimar ExclusividadeDoutorado com base nas seguintes variáveis disponíveis:\n",
    "* DuracaoDoutorado\n",
    "* Genero\n",
    "* Publicacoes\n",
    "* IdadeAcademica"
   ]
  },
  {
   "cell_type": "code",
   "execution_count": 37,
   "metadata": {},
   "outputs": [
    {
     "name": "stdout",
     "output_type": "stream",
     "text": [
      "ExclusividadeDoutorado\n",
      "1    4728\n",
      "0    3088\n",
      "Name: count, dtype: int64\n",
      "Acurácia: 0.6165434906196703\n"
     ]
    },
    {
     "data": {
      "image/png": "[encoded data removed]",
      "text/plain": [
       "<Figure size 800x600 with 1 Axes>"
      ]
     },
     "metadata": {},
     "output_type": "display_data"
    },
    {
     "name": "stdout",
     "output_type": "stream",
     "text": [
      "Report:\n",
      "               precision    recall  f1-score   support\n",
      "\n",
      "           0       0.80      0.04      0.07      1388\n",
      "           1       0.61      0.99      0.76      2130\n",
      "\n",
      "    accuracy                           0.62      3518\n",
      "   macro avg       0.71      0.52      0.41      3518\n",
      "weighted avg       0.69      0.62      0.49      3518\n",
      "\n"
     ]
    }
   ],
   "source": [
    "x = dataset[['DuracaoDoutorado',\n",
    "             'Genero',\n",
    "             'Publicacoes',\n",
    "             'IdadeAcademica']]\n",
    "y = dataset['ExclusividadeDoutorado']\n",
    "\n",
    "# Dividindo o conjunto de dados para estimação do modelo e validação\n",
    "# 30% dos dados serão para teste e 70% para treino\n",
    "x_train, x_test, y_train, y_test = train_test_split(x, y, test_size=0.45, random_state=42)\n",
    "\n",
    "print(y.value_counts())\n",
    "model = LogisticRegression()\n",
    "model.fit(x_train, y_train)\n",
    "\n",
    "# Fazendo predições\n",
    "y_pred = model.predict(x_test)\n",
    "\n",
    "# Acurácia\n",
    "accuracy = accuracy_score(y_test, y_pred)\n",
    "print(\"Acurácia:\", accuracy)\n",
    "\n",
    "# Gerando e plotando a matriz de confusão\n",
    "conf_matrix = confusion_matrix(y_test, y_pred)\n",
    "\n",
    "plt.figure(figsize=(8, 6))\n",
    "sns.heatmap(conf_matrix, annot=True, fmt=\"d\", cmap=\"Blues\", cbar=False)\n",
    "plt.xlabel(\"Previsão\")\n",
    "plt.ylabel(\"Valor Real\")\n",
    "plt.title(\"Matriz de Confusão\")\n",
    "plt.show()\n",
    "\n",
    "# Relatório de Classificação\n",
    "class_report = classification_report(y_test, y_pred)\n",
    "print(\"Report:\\n\", class_report)"
   ]
  }
 ],
 "metadata": {
  "kernelspec": {
   "display_name": ".venv",
   "language": "python",
   "name": "python3"
  },
  "language_info": {
   "codemirror_mode": {
    "name": "ipython",
    "version": 3
   },
   "file_extension": ".py",
   "mimetype": "text/x-python",
   "name": "python",
   "nbconvert_exporter": "python",
   "pygments_lexer": "ipython3",
   "version": "3.12.4"
  }
 },
 "nbformat": 4,
 "nbformat_minor": 2
}
